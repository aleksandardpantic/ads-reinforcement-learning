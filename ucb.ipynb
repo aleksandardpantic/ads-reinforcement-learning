{
 "cells": [
  {
   "cell_type": "code",
   "execution_count": 8,
   "metadata": {
    "collapsed": true,
    "ExecuteTime": {
     "end_time": "2023-07-31T14:41:06.002234700Z",
     "start_time": "2023-07-31T14:41:05.965593100Z"
    }
   },
   "outputs": [],
   "source": [
    "import pandas as pd\n",
    "import numpy as np\n",
    "\n",
    "data = pd.read_csv('Ads_CTR_Optimisation.csv')"
   ]
  },
  {
   "cell_type": "code",
   "execution_count": 10,
   "outputs": [
    {
     "name": "stdout",
     "output_type": "stream",
     "text": [
      "Ad 1 times clicked:\n",
      "1703\n",
      "\n",
      "Ad 2 times clicked:\n",
      "1295\n",
      "\n",
      "Ad 3 times clicked:\n",
      "728\n",
      "\n",
      "Ad 4 times clicked:\n",
      "1196\n",
      "\n",
      "Ad 5 times clicked:\n",
      "2695\n",
      "\n",
      "Ad 6 times clicked:\n",
      "126\n",
      "\n",
      "Ad 7 times clicked:\n",
      "1112\n",
      "\n",
      "Ad 8 times clicked:\n",
      "2091\n",
      "\n",
      "Ad 9 times clicked:\n",
      "952\n",
      "\n",
      "Ad 10 times clicked:\n",
      "489\n",
      "\n"
     ]
    }
   ],
   "source": [
    "for col in data:\n",
    "    print(col + \" times clicked:\")\n",
    "    print(sum(data[col]))\n",
    "    print()"
   ],
   "metadata": {
    "collapsed": false
   }
  },
  {
   "cell_type": "code",
   "execution_count": 9,
   "outputs": [],
   "source": [
    "import math\n",
    "N = 600\n",
    "d = 10\n",
    "ads_selected = []\n",
    "number_of_selections = [0] * d\n",
    "sums_of_rewards = [0] * d\n",
    "total_reward = 0"
   ],
   "metadata": {
    "collapsed": false,
    "ExecuteTime": {
     "end_time": "2023-07-31T14:41:06.008218900Z",
     "start_time": "2023-07-31T14:41:05.994709800Z"
    }
   }
  },
  {
   "cell_type": "code",
   "execution_count": 11,
   "outputs": [],
   "source": [
    "for i in range(0,N):\n",
    "    ad = 0\n",
    "    max_upper_bound = 0\n",
    "    for j in range(0,d):\n",
    "\n",
    "        if number_of_selections[j] > 0:\n",
    "            average_reward = sums_of_rewards[j] / number_of_selections[j]\n",
    "            delta_i = math.sqrt(3/2 * math.log(i + 1) / number_of_selections[j])\n",
    "            upper_bound = average_reward + delta_i\n",
    "        else:\n",
    "            upper_bound = 1e30\n",
    "        if upper_bound> max_upper_bound:\n",
    "            max_upper_bound = upper_bound\n",
    "            ad = j\n",
    "\n",
    "    ads_selected.append(ad)\n",
    "    number_of_selections[ad]+=1\n",
    "    sums_of_rewards[ad]+=data.iloc[i, ad]\n",
    "    total_reward+=data.iloc[i,ad]"
   ],
   "metadata": {
    "collapsed": false,
    "ExecuteTime": {
     "end_time": "2023-07-31T14:41:06.070349400Z",
     "start_time": "2023-07-31T14:41:06.027167900Z"
    }
   }
  },
  {
   "cell_type": "code",
   "execution_count": 12,
   "outputs": [
    {
     "data": {
      "text/plain": "(array([ 67.,  58.,  39.,  42., 119.,  39.,  58.,  90.,  49.,  39.]),\n array([0. , 0.9, 1.8, 2.7, 3.6, 4.5, 5.4, 6.3, 7.2, 8.1, 9. ]),\n <BarContainer object of 10 artists>)"
     },
     "execution_count": 12,
     "metadata": {},
     "output_type": "execute_result"
    },
    {
     "data": {
      "text/plain": "<Figure size 640x480 with 1 Axes>",
      "image/png": "[encoded data removed]"
     },
     "metadata": {},
     "output_type": "display_data"
    }
   ],
   "source": [
    "import matplotlib.pyplot as plt\n",
    "\n",
    "plt.hist(ads_selected)"
   ],
   "metadata": {
    "collapsed": false,
    "ExecuteTime": {
     "end_time": "2023-07-31T14:41:06.226960300Z",
     "start_time": "2023-07-31T14:41:06.071347600Z"
    }
   }
  }
 ],
 "metadata": {
  "kernelspec": {
   "display_name": "Python 3",
   "language": "python",
   "name": "python3"
  },
  "language_info": {
   "codemirror_mode": {
    "name": "ipython",
    "version": 2
   },
   "file_extension": ".py",
   "mimetype": "text/x-python",
   "name": "python",
   "nbconvert_exporter": "python",
   "pygments_lexer": "ipython2",
   "version": "2.7.6"
  }
 },
 "nbformat": 4,
 "nbformat_minor": 0
}
