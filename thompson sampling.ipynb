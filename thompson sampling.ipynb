{
 "cells": [
  {
   "cell_type": "code",
   "execution_count": 1,
   "metadata": {
    "collapsed": true,
    "ExecuteTime": {
     "end_time": "2023-07-31T14:55:33.266789200Z",
     "start_time": "2023-07-31T14:55:32.830160900Z"
    }
   },
   "outputs": [],
   "source": [
    "import pandas as pd\n",
    "import numpy as np\n",
    "\n",
    "data = pd.read_csv('Ads_CTR_Optimisation.csv')\n"
   ]
  },
  {
   "cell_type": "code",
   "execution_count": 2,
   "outputs": [
    {
     "name": "stdout",
     "output_type": "stream",
     "text": [
      "Ad 1 times clicked:\n",
      "1703\n",
      "\n",
      "Ad 2 times clicked:\n",
      "1295\n",
      "\n",
      "Ad 3 times clicked:\n",
      "728\n",
      "\n",
      "Ad 4 times clicked:\n",
      "1196\n",
      "\n",
      "Ad 5 times clicked:\n",
      "2695\n",
      "\n",
      "Ad 6 times clicked:\n",
      "126\n",
      "\n",
      "Ad 7 times clicked:\n",
      "1112\n",
      "\n",
      "Ad 8 times clicked:\n",
      "2091\n",
      "\n",
      "Ad 9 times clicked:\n",
      "952\n",
      "\n",
      "Ad 10 times clicked:\n",
      "489\n",
      "\n"
     ]
    }
   ],
   "source": [
    "for col in data:\n",
    "    print(col + \" times clicked:\")\n",
    "    print(sum(data[col]))\n",
    "    print()"
   ],
   "metadata": {
    "collapsed": false,
    "ExecuteTime": {
     "end_time": "2023-07-31T14:55:33.282747100Z",
     "start_time": "2023-07-31T14:55:33.268793500Z"
    }
   }
  },
  {
   "cell_type": "code",
   "execution_count": 3,
   "outputs": [],
   "source": [
    "import random\n",
    "N = 600\n",
    "d = 10\n",
    "\n",
    "random.seed(100)\n",
    "ads_selected = []\n",
    "number_of_rewards_1 = [0]*d\n",
    "number_of_rewards_0 = [0]*d\n",
    "total_reward = 0"
   ],
   "metadata": {
    "collapsed": false,
    "ExecuteTime": {
     "end_time": "2023-07-31T14:55:33.325428400Z",
     "start_time": "2023-07-31T14:55:33.283769100Z"
    }
   }
  },
  {
   "cell_type": "code",
   "execution_count": 4,
   "outputs": [],
   "source": [
    "for i in range(0,N):\n",
    "    ad = 0\n",
    "    max_random = 0\n",
    "    for j in range(0,d):\n",
    "        rand = random.betavariate(number_of_rewards_1[j]+1, number_of_rewards_0[j]+1)\n",
    "        if rand>max_random:\n",
    "            max_random = rand\n",
    "            ad = j\n",
    "\n",
    "    ads_selected.append(ad)\n",
    "    if data.iloc[i, ad] == 1:\n",
    "        number_of_rewards_1[ad]+=1\n",
    "    else:\n",
    "        number_of_rewards_0[ad]+=1\n",
    "    total_reward += data.iloc[i,ad]"
   ],
   "metadata": {
    "collapsed": false,
    "ExecuteTime": {
     "end_time": "2023-07-31T14:55:33.359348200Z",
     "start_time": "2023-07-31T14:55:33.300463400Z"
    }
   }
  },
  {
   "cell_type": "code",
   "execution_count": 5,
   "outputs": [
    {
     "data": {
      "text/plain": "(array([ 22.,  18.,  32.,  37., 257.,  14.,  51., 132.,  20.,  17.]),\n array([0. , 0.9, 1.8, 2.7, 3.6, 4.5, 5.4, 6.3, 7.2, 8.1, 9. ]),\n <BarContainer object of 10 artists>)"
     },
     "execution_count": 5,
     "metadata": {},
     "output_type": "execute_result"
    },
    {
     "data": {
      "text/plain": "<Figure size 640x480 with 1 Axes>",
      "image/png": "[encoded data removed]"
     },
     "metadata": {},
     "output_type": "display_data"
    }
   ],
   "source": [
    "import matplotlib.pyplot as plt\n",
    "\n",
    "plt.hist(ads_selected)"
   ],
   "metadata": {
    "collapsed": false,
    "ExecuteTime": {
     "end_time": "2023-07-31T14:55:33.936191100Z",
     "start_time": "2023-07-31T14:55:33.359348200Z"
    }
   }
  }
 ],
 "metadata": {
  "kernelspec": {
   "display_name": "Python 3",
   "language": "python",
   "name": "python3"
  },
  "language_info": {
   "codemirror_mode": {
    "name": "ipython",
    "version": 2
   },
   "file_extension": ".py",
   "mimetype": "text/x-python",
   "name": "python",
   "nbconvert_exporter": "python",
   "pygments_lexer": "ipython2",
   "version": "2.7.6"
  }
 },
 "nbformat": 4,
 "nbformat_minor": 0
}
